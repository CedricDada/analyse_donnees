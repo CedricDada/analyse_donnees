{
 "cells": [
  {
   "cell_type": "markdown",
   "metadata": {},
   "source": [
    "# Analyse factorielle des correspondances"
   ]
  },
  {
   "cell_type": "code",
   "execution_count": 1,
   "metadata": {},
   "outputs": [],
   "source": [
    "import numpy as np\n",
    "import matplotlib.pyplot as plt\n",
    "import pandas as pd"
   ]
  },
  {
   "cell_type": "code",
   "execution_count": 2,
   "metadata": {},
   "outputs": [
    {
     "name": "stdout",
     "output_type": "stream",
     "text": [
      "  yeux/cheveux  Chatains  Roux  Blonds\n",
      "0      Marrons       119    26       7\n",
      "1     Noisette        54    14      10\n",
      "2        Verts        29    14      16\n",
      "3        Bleus        84    17      94\n"
     ]
    }
   ],
   "source": [
    "donnee = pd.read_excel(\"donnee.xlsx\")\n",
    "print(donnee)"
   ]
  },
  {
   "cell_type": "code",
   "execution_count": 3,
   "metadata": {},
   "outputs": [],
   "source": [
    "data = np.array(donnee)"
   ]
  },
  {
   "cell_type": "code",
   "execution_count": 4,
   "metadata": {},
   "outputs": [],
   "source": [
    "N = data[:,1:]\n",
    "N = N.astype(float)\n"
   ]
  },
  {
   "cell_type": "code",
   "execution_count": 5,
   "metadata": {},
   "outputs": [
    {
     "data": {
      "text/plain": [
       "array([[0.24586777, 0.05371901, 0.01446281],\n",
       "       [0.11157025, 0.02892562, 0.02066116],\n",
       "       [0.05991736, 0.02892562, 0.03305785],\n",
       "       [0.17355372, 0.03512397, 0.19421488]])"
      ]
     },
     "execution_count": 5,
     "metadata": {},
     "output_type": "execute_result"
    }
   ],
   "source": [
    "F = N/484\n",
    "F "
   ]
  },
  {
   "cell_type": "code",
   "execution_count": 6,
   "metadata": {},
   "outputs": [
    {
     "name": "stdout",
     "output_type": "stream",
     "text": [
      "[0.31404959 0.16115702 0.12190083 0.40289256]\n",
      "[0.59090909 0.14669421 0.26239669]\n"
     ]
    }
   ],
   "source": [
    "F_K_plus =F.sum(axis=1)\n",
    "F_plus_L =F.sum(axis=0)\n",
    "print(F_K_plus)\n",
    "print(np.transpose(F_plus_L))"
   ]
  },
  {
   "cell_type": "code",
   "execution_count": 7,
   "metadata": {},
   "outputs": [],
   "source": [
    "F_K_plus =F_K_plus.reshape(4,1)\n",
    "F_plus_L = F_plus_L.reshape(3,1)"
   ]
  },
  {
   "cell_type": "code",
   "execution_count": 8,
   "metadata": {},
   "outputs": [
    {
     "data": {
      "text/plain": [
       "array([[0.18557476, 0.04606926, 0.08240557],\n",
       "       [0.09522915, 0.0236408 , 0.04228707],\n",
       "       [0.07203231, 0.01788215, 0.03198637],\n",
       "       [0.23807288, 0.05910201, 0.10571768]])"
      ]
     },
     "execution_count": 8,
     "metadata": {},
     "output_type": "execute_result"
    }
   ],
   "source": [
    "F_approx =np.dot(F_K_plus,F_plus_L.T)\n",
    "F_approx"
   ]
  },
  {
   "cell_type": "code",
   "execution_count": 9,
   "metadata": {},
   "outputs": [],
   "source": [
    "F_error = np.square(F-F_approx)/F_approx"
   ]
  },
  {
   "cell_type": "code",
   "execution_count": 10,
   "metadata": {},
   "outputs": [
    {
     "data": {
      "text/plain": [
       "97.82186044949357"
      ]
     },
     "execution_count": 10,
     "metadata": {},
     "output_type": "execute_result"
    }
   ],
   "source": [
    "X_carre = 484*F_error.sum()\n",
    "X_carre"
   ]
  },
  {
   "cell_type": "markdown",
   "metadata": {},
   "source": [
    "#### Etant donne que la valeur statistique de test est superieur au quantile d'ordre 1-α de la loi de Khi-deux a (K-1)(L-1) degre de liberte  alors l'hypothese H0 d'independance des variables est rejeter \n",
    "## On peut donc commencer l'AFC"
   ]
  },
  {
   "cell_type": "markdown",
   "metadata": {},
   "source": [
    "#### AFC = ACP ligne + ACP colonne"
   ]
  },
  {
   "cell_type": "markdown",
   "metadata": {},
   "source": []
  },
  {
   "cell_type": "code",
   "execution_count": null,
   "metadata": {},
   "outputs": [],
   "source": []
  },
  {
   "cell_type": "code",
   "execution_count": 11,
   "metadata": {},
   "outputs": [
    {
     "data": {
      "text/plain": [
       "array([[0.31404959, 0.        , 0.        , 0.        ],\n",
       "       [0.        , 0.16115702, 0.        , 0.        ],\n",
       "       [0.        , 0.        , 0.12190083, 0.        ],\n",
       "       [0.        , 0.        , 0.        , 0.40289256]])"
      ]
     },
     "execution_count": 11,
     "metadata": {},
     "output_type": "execute_result"
    }
   ],
   "source": [
    "D_K_point = np.diag(F_K_plus.reshape(4,))\n",
    "D_K_point"
   ]
  },
  {
   "cell_type": "code",
   "execution_count": 12,
   "metadata": {},
   "outputs": [
    {
     "data": {
      "text/plain": [
       "array([[0.59090909, 0.        , 0.        ],\n",
       "       [0.        , 0.14669421, 0.        ],\n",
       "       [0.        , 0.        , 0.26239669]])"
      ]
     },
     "execution_count": 12,
     "metadata": {},
     "output_type": "execute_result"
    }
   ],
   "source": [
    "D_point_l = np.diag(F_plus_L.reshape(3,))\n",
    "D_point_l"
   ]
  },
  {
   "cell_type": "code",
   "execution_count": 13,
   "metadata": {},
   "outputs": [],
   "source": [
    "inv_D_K_point = np.linalg.inv(D_K_point)\n",
    "inv_D_point_l = np.linalg.inv(D_point_l)"
   ]
  },
  {
   "cell_type": "code",
   "execution_count": 14,
   "metadata": {},
   "outputs": [],
   "source": [
    "L = np.dot(inv_D_K_point,F)\n",
    "C = np.dot(inv_D_point_l,np.transpose(F))"
   ]
  },
  {
   "cell_type": "code",
   "execution_count": 15,
   "metadata": {},
   "outputs": [],
   "source": [
    "Lc = L - np.ones((4,1)).dot(np.transpose(F_plus_L))"
   ]
  },
  {
   "cell_type": "code",
   "execution_count": 16,
   "metadata": {},
   "outputs": [],
   "source": [
    "S_carre = Lc.transpose().dot(np.dot(inv_D_K_point,Lc))"
   ]
  },
  {
   "cell_type": "code",
   "execution_count": 17,
   "metadata": {},
   "outputs": [],
   "source": [
    "S_carre_M = np.dot(S_carre,inv_D_point_l)"
   ]
  },
  {
   "cell_type": "markdown",
   "metadata": {},
   "source": [
    "#### Il faut maintenant trouver les vecteur propres de la matrice de S_carre_M"
   ]
  },
  {
   "cell_type": "code",
   "execution_count": null,
   "metadata": {},
   "outputs": [],
   "source": [
    "val_propres, vec_propres = np.linalg.eig(S_carre_M)"
   ]
  },
  {
   "cell_type": "code",
   "execution_count": null,
   "metadata": {},
   "outputs": [],
   "source": [
    "indices = np.argsort(val_propres)[::-1]\n",
    "vec_propres = vec_propres[:,indices]\n",
    "val_propres = val_propres[indices]\n",
    "\n",
    "# Projection des données sur les vecteurs propres\n",
    "D_proj = np.dot(D_centre, vec_propres)\n",
    "\n",
    "# Visualisation des deux premières composantes principales\n",
    "plt.figure(figsize=(6, 4))\n",
    "plt.scatter(D_proj[:, 0], D_proj[:, 1])\n",
    "plt.xlabel('Première composante principale')\n",
    "plt.ylabel('Deuxième composante principale')\n",
    "plt.show()"
   ]
  }
 ],
 "metadata": {
  "kernelspec": {
   "display_name": "Python 3",
   "language": "python",
   "name": "python3"
  },
  "language_info": {
   "codemirror_mode": {
    "name": "ipython",
    "version": 3
   },
   "file_extension": ".py",
   "mimetype": "text/x-python",
   "name": "python",
   "nbconvert_exporter": "python",
   "pygments_lexer": "ipython3",
   "version": "3.11.5"
  },
  "orig_nbformat": 4
 },
 "nbformat": 4,
 "nbformat_minor": 2
}
