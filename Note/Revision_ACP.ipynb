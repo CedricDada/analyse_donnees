{
 "cells": [
  {
   "cell_type": "markdown",
   "metadata": {
    "tags": []
   },
   "source": [
    "# Chapitre 3 : Analyse Factorielle des correspondances"
   ]
  },
  {
   "cell_type": "markdown",
   "metadata": {},
   "source": [
    "__Donnees__:  $ {\\{(x_i,y_i)\\}_{i=1}^n} $   \n",
    "ou $(x_i,y_i)$ $\\in$ $ X(\\Omega)\\times Y(\\Omega)$  \n",
    "avec $ X(\\Omega)=\\{a_1,...,a_K\\} $ et $ Y(\\Omega)=\\{b_1,...,b_L\\}$ des ensembles finis de donnees"
   ]
  },
  {
   "cell_type": "markdown",
   "metadata": {},
   "source": [
    "<u>RQ<u>\\: les donnees sont des observations de deux variables x et Y"
   ]
  },
  {
   "cell_type": "markdown",
   "metadata": {},
   "source": [
    "Texte normal suivi d’un [color=#26B260] texte coloré en vert [/color] dans un paragraphe."
   ]
  },
  {
   "cell_type": "markdown",
   "metadata": {},
   "source": [
    "Texte normal suivi d’un <span style=\"color: #26B260\">texte coloré en vert</span> dans un paragraphe."
   ]
  },
  {
   "cell_type": "markdown",
   "metadata": {},
   "source": [
    ">>>>Ceci est une **zone en retrait**.\n",
    ">La zone continue ici\n",
    "\n",
    ">Ceci est une autre **zone de retrait**.\n",
    "Cette zone continue également dans la ligne suivante.\n",
    "Cependan, cette ligne n’est plus en retrait\n",
    "\n"
   ]
  },
  {
   "cell_type": "markdown",
   "metadata": {},
   "source": [
    "- Liste1\n",
    "- Liste 2\n",
    "- Liste 3\n"
   ]
  },
  {
   "cell_type": "markdown",
   "metadata": {},
   "source": [
    "\n",
    "1. Liste 1\n",
    "2. Liste 2\n",
    "3. Liste 3\n",
    "\n"
   ]
  },
  {
   "cell_type": "markdown",
   "metadata": {},
   "source": [
    "[ ] A\n",
    "[x] B\n",
    "[ ] C\n"
   ]
  },
  {
   "cell_type": "markdown",
   "metadata": {},
   "source": [
    "C’est le `code`."
   ]
  },
  {
   "cell_type": "markdown",
   "metadata": {},
   "source": [
    "Ceci est un \\*exemple avec des astérisques\\*."
   ]
  },
  {
   "cell_type": "markdown",
   "metadata": {},
   "source": [
    "Voici du « code incorporé »."
   ]
  },
  {
   "cell_type": "code",
   "execution_count": null,
   "metadata": {},
   "outputs": [],
   "source": []
  },
  {
   "cell_type": "markdown",
   "metadata": {},
   "source": [
    "<u>Texte centré</u>"
   ]
  },
  {
   "cell_type": "markdown",
   "metadata": {},
   "source": [
    "Probleme:"
   ]
  },
  {
   "cell_type": "markdown",
   "metadata": {},
   "source": [
    "### I-CONCEPT"
   ]
  },
  {
   "cell_type": "markdown",
   "metadata": {},
   "source": [
    "$$ m = \\frac{m_0}{\\sqrt{1-\\frac{v^2}{c^2}}} $$"
   ]
  },
  {
   "cell_type": "code",
   "execution_count": null,
   "metadata": {},
   "outputs": [],
   "source": []
  }
 ],
 "metadata": {
  "language_info": {
   "name": "python"
  },
  "orig_nbformat": 4
 },
 "nbformat": 4,
 "nbformat_minor": 2
}
