{
 "cells": [
  {
   "cell_type": "code",
   "execution_count": 33,
   "metadata": {},
   "outputs": [],
   "source": [
    "import pandas as pd\n",
    "from fanalysis.ca import CA\n",
    "import numpy as np\n",
    "import matplotlib.pyplot as plt\n",
    "import acp_functions as acp_functions"
   ]
  },
  {
   "cell_type": "code",
   "execution_count": 34,
   "metadata": {},
   "outputs": [
    {
     "data": {
      "text/html": [
       "<div>\n",
       "<style scoped>\n",
       "    .dataframe tbody tr th:only-of-type {\n",
       "        vertical-align: middle;\n",
       "    }\n",
       "\n",
       "    .dataframe tbody tr th {\n",
       "        vertical-align: top;\n",
       "    }\n",
       "\n",
       "    .dataframe thead th {\n",
       "        text-align: right;\n",
       "    }\n",
       "</style>\n",
       "<table border=\"1\" class=\"dataframe\">\n",
       "  <thead>\n",
       "    <tr style=\"text-align: right;\">\n",
       "      <th></th>\n",
       "      <th>yeux</th>\n",
       "      <th>Chatains</th>\n",
       "      <th>Roux</th>\n",
       "      <th>Blonds</th>\n",
       "    </tr>\n",
       "  </thead>\n",
       "  <tbody>\n",
       "    <tr>\n",
       "      <th>0</th>\n",
       "      <td>Marrons</td>\n",
       "      <td>119</td>\n",
       "      <td>26</td>\n",
       "      <td>7</td>\n",
       "    </tr>\n",
       "    <tr>\n",
       "      <th>1</th>\n",
       "      <td>Noisette</td>\n",
       "      <td>54</td>\n",
       "      <td>14</td>\n",
       "      <td>10</td>\n",
       "    </tr>\n",
       "    <tr>\n",
       "      <th>2</th>\n",
       "      <td>Verts</td>\n",
       "      <td>29</td>\n",
       "      <td>14</td>\n",
       "      <td>16</td>\n",
       "    </tr>\n",
       "    <tr>\n",
       "      <th>3</th>\n",
       "      <td>Bleus</td>\n",
       "      <td>84</td>\n",
       "      <td>17</td>\n",
       "      <td>94</td>\n",
       "    </tr>\n",
       "  </tbody>\n",
       "</table>\n",
       "</div>"
      ],
      "text/plain": [
       "       yeux  Chatains  Roux  Blonds\n",
       "0   Marrons       119    26       7\n",
       "1  Noisette        54    14      10\n",
       "2     Verts        29    14      16\n",
       "3     Bleus        84    17      94"
      ]
     },
     "execution_count": 34,
     "metadata": {},
     "output_type": "execute_result"
    }
   ],
   "source": [
    "df = pd.read_excel(\"donnee.xlsx\")\n",
    "df"
   ]
  },
  {
   "cell_type": "code",
   "execution_count": 35,
   "metadata": {},
   "outputs": [],
   "source": [
    "hair_colors = list(df.columns)[1:]\n",
    "eye_colors = df['yeux']"
   ]
  },
  {
   "cell_type": "code",
   "execution_count": 36,
   "metadata": {},
   "outputs": [],
   "source": [
    "X = df[hair_colors].values"
   ]
  },
  {
   "cell_type": "code",
   "execution_count": 37,
   "metadata": {},
   "outputs": [
    {
     "name": "stdout",
     "output_type": "stream",
     "text": [
      "[152  78  59 195]\n",
      "profil ligne: \n",
      "          Chatains      Roux    Blonds\n",
      "yeux                                  \n",
      "Marrons   0.782895  0.171053  0.046053\n",
      "Noisette  0.692308  0.179487  0.128205\n",
      "Verts     0.491525  0.237288  0.271186\n",
      "Bleus     0.430769  0.087179  0.482051\n",
      "profil colonne: \n",
      "          Chatains      Roux    Blonds\n",
      "yeux                                  \n",
      "Marrons   0.416084  0.366197  0.055118\n",
      "Noisette  0.188811  0.197183  0.078740\n",
      "Verts     0.101399  0.197183  0.125984\n",
      "Bleus     0.293706  0.239437  0.740157\n"
     ]
    }
   ],
   "source": [
    "#calcul du profil ligne\n",
    "row_sum = np.sum(X, axis=1)\n",
    "column_sum=np.sum(X,axis=0)\n",
    "row_profile = X/row_sum[:,np.newaxis]\n",
    "columns_profile=X/column_sum\n",
    "\n",
    "print(row_sum)\n",
    "#affichage\n",
    "print(\"profil ligne: \")\n",
    "print(pd.DataFrame(row_profile, index=eye_colors, columns=hair_colors))\n",
    "print(\"profil colonne: \")\n",
    "print(pd.DataFrame(columns_profile, index=eye_colors, columns=hair_colors))"
   ]
  },
  {
   "cell_type": "code",
   "execution_count": 38,
   "metadata": {},
   "outputs": [],
   "source": [
    "rows_sum_frequences=row_sum/np.sum(X)\n",
    "columns_sum_frequences=column_sum/np.sum(X)"
   ]
  },
  {
   "cell_type": "code",
   "execution_count": 39,
   "metadata": {},
   "outputs": [
    {
     "name": "stdout",
     "output_type": "stream",
     "text": [
      "Dk [[0.31404959 0.         0.         0.        ]\n",
      " [0.         0.16115702 0.         0.        ]\n",
      " [0.         0.         0.12190083 0.        ]\n",
      " [0.         0.         0.         0.40289256]]\n",
      "DL [[0.59090909 0.         0.        ]\n",
      " [0.         0.14669421 0.        ]\n",
      " [0.         0.         0.26239669]]\n",
      "F [[0.24586777 0.05371901 0.01446281]\n",
      " [0.11157025 0.02892562 0.02066116]\n",
      " [0.05991736 0.02892562 0.03305785]\n",
      " [0.17355372 0.03512397 0.19421488]]\n"
     ]
    }
   ],
   "source": [
    "DK=np.diag(rows_sum_frequences)\n",
    "DL=np.diag(columns_sum_frequences)\n",
    "#Déterminons la matrice F\n",
    "\n",
    "F=X/np.sum(X)\n",
    "\n",
    "print(\"Dk\", DK)\n",
    "print(\"DL\", DL)\n",
    "print(\"F\", F)\n"
   ]
  },
  {
   "cell_type": "code",
   "execution_count": 40,
   "metadata": {},
   "outputs": [
    {
     "ename": "ValueError",
     "evalue": "matmul: Input operand 1 has a mismatch in its core dimension 0, with gufunc signature (n?,k),(k,m?)->(n?,m?) (size 3 is different from 4)",
     "output_type": "error",
     "traceback": [
      "\u001b[0;31m---------------------------------------------------------------------------\u001b[0m",
      "\u001b[0;31mValueError\u001b[0m                                Traceback (most recent call last)",
      "\u001b[1;32m/home/cedric/Documents/analyse de données/acp/afc_pas_a_pas.ipynb Cell 8\u001b[0m line \u001b[0;36m6\n\u001b[1;32m      <a href='vscode-notebook-cell:/home/cedric/Documents/analyse%20de%20donn%C3%A9es/acp/afc_pas_a_pas.ipynb#X10sZmlsZQ%3D%3D?line=2'>3</a>\u001b[0m C_barre \u001b[39m=\u001b[39m np\u001b[39m.\u001b[39msum(F, axis\u001b[39m=\u001b[39m\u001b[39m1\u001b[39m)\n\u001b[1;32m      <a href='vscode-notebook-cell:/home/cedric/Documents/analyse%20de%20donn%C3%A9es/acp/afc_pas_a_pas.ipynb#X10sZmlsZQ%3D%3D?line=3'>4</a>\u001b[0m \u001b[39m#calcul de la matrice Lc: la matrice centrée\u001b[39;00m\n\u001b[0;32m----> <a href='vscode-notebook-cell:/home/cedric/Documents/analyse%20de%20donn%C3%A9es/acp/afc_pas_a_pas.ipynb#X10sZmlsZQ%3D%3D?line=5'>6</a>\u001b[0m Lc\u001b[39m=\u001b[39mnp\u001b[39m.\u001b[39mlinalg\u001b[39m.\u001b[39minv(DK)\u001b[39m@F\u001b[39m\u001b[39m-\u001b[39m(acp_functions\u001b[39m.\u001b[39mmatrix_of_one(np\u001b[39m.\u001b[39mshape(DK)[\u001b[39m0\u001b[39m])\u001b[39m@np\u001b[39m\u001b[39m.\u001b[39mtranspose(L_barre))\n\u001b[1;32m      <a href='vscode-notebook-cell:/home/cedric/Documents/analyse%20de%20donn%C3%A9es/acp/afc_pas_a_pas.ipynb#X10sZmlsZQ%3D%3D?line=6'>7</a>\u001b[0m Cc\u001b[39m=\u001b[39mnp\u001b[39m.\u001b[39mlinalg\u001b[39m.\u001b[39minv(DL)\u001b[39m@F\u001b[39m\u001b[39m-\u001b[39m(acp_functions\u001b[39m.\u001b[39mmatrix_of_one(np\u001b[39m.\u001b[39mshape(DL)[\u001b[39m0\u001b[39m])\u001b[39m@np\u001b[39m\u001b[39m.\u001b[39mtranspose(C_barre))\n",
      "\u001b[0;31mValueError\u001b[0m: matmul: Input operand 1 has a mismatch in its core dimension 0, with gufunc signature (n?,k),(k,m?)->(n?,m?) (size 3 is different from 4)"
     ]
    }
   ],
   "source": [
    "#calcul de la matrice L_barre\n",
    "L_barre = np.sum(F, axis=0)\n",
    "C_barre = np.sum(F, axis=1)\n",
    "#calcul de la matrice Lc: la matrice centrée\n",
    "\n",
    "Lc=np.linalg.inv(DK)@F-(acp_functions.matrix_of_one(np.shape(DK)[0])@np.transpose(L_barre))\n",
    "Cc=np.linalg.inv(DL)@F-(acp_functions.matrix_of_one(np.shape(DL)[0])@np.transpose(C_barre))"
   ]
  },
  {
   "cell_type": "code",
   "execution_count": null,
   "metadata": {},
   "outputs": [
    {
     "ename": "NameError",
     "evalue": "name 'acp_functions' is not defined",
     "output_type": "error",
     "traceback": [
      "\u001b[0;31m---------------------------------------------------------------------------\u001b[0m",
      "\u001b[0;31mNameError\u001b[0m                                 Traceback (most recent call last)",
      "\u001b[1;32m/home/cedric/Documents/analyse de données/acp/afc_pas_a_pas.ipynb Cell 9\u001b[0m line \u001b[0;36m1\n\u001b[0;32m----> <a href='vscode-notebook-cell:/home/cedric/Documents/analyse%20de%20donn%C3%A9es/acp/afc_pas_a_pas.ipynb#X11sZmlsZQ%3D%3D?line=0'>1</a>\u001b[0m acp_functions\u001b[39m.\u001b[39mcompleted_pca(Lc,np\u001b[39m.\u001b[39mlinalg\u001b[39m.\u001b[39minv(DL),np\u001b[39m.\u001b[39mlinalg\u001b[39m.\u001b[39minv(DK))\n\u001b[1;32m      <a href='vscode-notebook-cell:/home/cedric/Documents/analyse%20de%20donn%C3%A9es/acp/afc_pas_a_pas.ipynb#X11sZmlsZQ%3D%3D?line=1'>2</a>\u001b[0m acp_functions\u001b[39m.\u001b[39mcompleted_pca(Cc,np\u001b[39m.\u001b[39mlinalg\u001b[39m.\u001b[39minv(DK),np\u001b[39m.\u001b[39mlinalg\u001b[39m.\u001b[39minv(DL))\n",
      "\u001b[0;31mNameError\u001b[0m: name 'acp_functions' is not defined"
     ]
    }
   ],
   "source": [
    "acp_functions.completed_pca(Lc,np.linalg.inv(DL),np.linalg.inv(DK))\n",
    "acp_functions.completed_pca(Cc,np.linalg.inv(DK),np.linalg.inv(DL))"
   ]
  },
  {
   "cell_type": "code",
   "execution_count": null,
   "metadata": {},
   "outputs": [],
   "source": []
  }
 ],
 "metadata": {
  "kernelspec": {
   "display_name": "base",
   "language": "python",
   "name": "python3"
  },
  "language_info": {
   "codemirror_mode": {
    "name": "ipython",
    "version": 3
   },
   "file_extension": ".py",
   "mimetype": "text/x-python",
   "name": "python",
   "nbconvert_exporter": "python",
   "pygments_lexer": "ipython3",
   "version": "3.11.5"
  }
 },
 "nbformat": 4,
 "nbformat_minor": 2
}
